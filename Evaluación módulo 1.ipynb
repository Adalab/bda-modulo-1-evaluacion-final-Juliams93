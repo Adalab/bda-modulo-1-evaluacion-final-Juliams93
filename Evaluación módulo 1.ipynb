{
 "cells": [
  {
   "cell_type": "markdown",
   "metadata": {},
   "source": [
    "# Evaluación Final Módulo 1: #\n",
    "---\n",
    "> Por Julia Marín Salas \n"
   ]
  },
  {
   "cell_type": "markdown",
   "metadata": {},
   "source": [
    "1. Creamos tres estructuras de datos:"
   ]
  },
  {
   "cell_type": "code",
   "execution_count": null,
   "metadata": {},
   "outputs": [],
   "source": [
    "inventory = []\n",
    "customers = {}\n",
    "total_sales = 0.0"
   ]
  },
  {
   "cell_type": "markdown",
   "metadata": {},
   "source": [
    "2. Inventory's functions:"
   ]
  },
  {
   "cell_type": "code",
   "execution_count": null,
   "metadata": {},
   "outputs": [],
   "source": [
    "# Con esta función podemos añadir un nuevo producto a nuestro inventario, comprobando previamente si existe.\n",
    "def add_product(name, price, quantity):\n",
    "    for producto in inventory:  # Revisamos todos los productos del inventario.\n",
    "        if producto['name'] == name: \n",
    "            print('El producto ya existe y se va a actualizar.') \n",
    "            name['quantity'] += quantity # En caso de que el producto ya se encuentre en nuestro inventario, se actualizaría.\n",
    "            return\n",
    "# En caso de que no este en nuestro inventario lo agregariamos mediante un diccionario. Y la función append.        \n",
    "    new_product = {  \n",
    "        'name': name,\n",
    "        'price': price,\n",
    "        'quantity': quantity\n",
    "    }\n",
    "    inventory.append(new_product)"
   ]
  },
  {
   "cell_type": "code",
   "execution_count": null,
   "metadata": {},
   "outputs": [],
   "source": [
    "# Con esta función podemos ver el inventario:\n",
    "def view_inventory():\n",
    "    if len(inventory) == 0: # Aquí verificamos si el inventario está vacío.\n",
    "        print(\"El inventario está vacío.\")\n",
    "    else:\n",
    "        for product in inventory: # Si no lo está pedimos que muestre los detalles de cada producto.\n",
    "            print(f\"Producto: {product['name']}, Price: {product['price']}, Quantity: {product['quantity']}\")"
   ]
  },
  {
   "cell_type": "code",
   "execution_count": null,
   "metadata": {},
   "outputs": [],
   "source": [
    "# Con la siguiente función buscamos cualquier producto en el inventario:\n",
    "def search_product(name):\n",
    "    for producto in inventory:\n",
    "        if producto['name'].lower == name.lower():\n",
    "           print(f\"El producto {name} se encuentra en el inventario.\") \n",
    "        else:\n",
    "            print(f'El producto {name} no se encuentra en el inventario.')"
   ]
  },
  {
   "cell_type": "code",
   "execution_count": null,
   "metadata": {},
   "outputs": [],
   "source": []
  }
 ],
 "metadata": {
  "kernelspec": {
   "display_name": "Python 3",
   "language": "python",
   "name": "python3"
  },
  "language_info": {
   "codemirror_mode": {
    "name": "ipython",
    "version": 3
   },
   "file_extension": ".py",
   "mimetype": "text/x-python",
   "name": "python",
   "nbconvert_exporter": "python",
   "pygments_lexer": "ipython3",
   "version": "3.9.6"
  }
 },
 "nbformat": 4,
 "nbformat_minor": 2
}

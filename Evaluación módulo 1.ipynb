{
 "cells": [
  {
   "cell_type": "markdown",
   "metadata": {},
   "source": [
    "# Evaluación Final Módulo 1: #\n",
    "---\n",
    "> Por Julia Marín Salas \n"
   ]
  },
  {
   "cell_type": "markdown",
   "metadata": {},
   "source": [
    "1. Creamos tres estructuras de datos:"
   ]
  },
  {
   "cell_type": "code",
   "execution_count": 138,
   "metadata": {},
   "outputs": [],
   "source": [
    "inventory = []\n",
    "customers = {}\n",
    "total_sales = 0.0"
   ]
  },
  {
   "cell_type": "markdown",
   "metadata": {},
   "source": [
    "2. Inventory's functions:"
   ]
  },
  {
   "cell_type": "code",
   "execution_count": 139,
   "metadata": {},
   "outputs": [],
   "source": [
    "# Con esta función podemos añadir un nuevo producto a nuestro inventario, comprobando previamente si existe.\n",
    "def add_product(name, price, quantity):\n",
    "    for product in inventory:  # Revisamos todos los productos del inventario.\n",
    "        if product['name'] == name: \n",
    "            print('The product already exists and is going to be updated.') \n",
    "            name['quantity'] += quantity # En caso de que el producto ya se encuentre en nuestro inventario, se actualizaría.\n",
    "            return\n",
    "        \n",
    "    # En caso de que no este en nuestro inventario lo agregariamos mediante un diccionario. Y la función append.        \n",
    "    new_product = {  \n",
    "        'name': name,\n",
    "        'price': price,\n",
    "        'quantity': quantity\n",
    "    }\n",
    "    inventory.append(new_product)"
   ]
  },
  {
   "cell_type": "code",
   "execution_count": 140,
   "metadata": {},
   "outputs": [],
   "source": [
    "# Con esta función podemos ver el inventario:\n",
    "def view_inventory():\n",
    "    if len(inventory) == 0: # Aquí verificamos si el inventario está vacío.\n",
    "        print(\"El inventario is empty.\")\n",
    "    else:\n",
    "        for product in inventory: # Si no lo está pedimos que muestre los detalles de cada producto.\n",
    "            print(f\"Producto: {product['name']}, Price: {product['price']}, Quantity: {product['quantity']}\")"
   ]
  },
  {
   "cell_type": "code",
   "execution_count": 141,
   "metadata": {},
   "outputs": [],
   "source": [
    "# Con la siguiente función buscamos cualquier producto en el inventario:\n",
    "def search_product(name):\n",
    "    for product in inventory:\n",
    "        if product['name'].lower() == name.lower():\n",
    "           print(f\"Product {name} is in inventory.\")\n",
    "           print(f\"Producto: {product['name']}, Price: {product['price']}, Quantity: {product['quantity']}\") \n",
    "           return product\n",
    "        else:\n",
    "            print(f'El producto {name} is not in the inventory.')\n",
    "            return None"
   ]
  },
  {
   "cell_type": "code",
   "execution_count": 142,
   "metadata": {},
   "outputs": [],
   "source": [
    "# Con esta función actualizamos el stock del inventario:\n",
    "def update_stock(name, quantity):\n",
    "    product_found = False\n",
    "\n",
    "    for product in inventory:\n",
    "        if product['name'].lower() == name.lower(): # Busca el producto por nombre.\n",
    "            product['quantity'] += quantity  # Actualiza la cantidad.\n",
    "            print(f\"Updated {product['name']}: New quantity is {product['quantity']}\")\n",
    "            product_found = True  \n",
    "            break  # Sale del bucle una vez encontrado el producto. \n",
    "\n",
    "    # Si el producto no está en el inventario, muestra un mensaje.\n",
    "    if not product_found:\n",
    "        print(f\"Product '{name}' not found in inventory.\")\n"
   ]
  },
  {
   "cell_type": "code",
   "execution_count": 157,
   "metadata": {},
   "outputs": [],
   "source": [
    "# Con esta función eliminamos un producto del inventario:\n",
    "def delete_product(name):\n",
    "    product_found = False\n",
    "    \n",
    "    for product in inventory:\n",
    "        if product['name'].lower() == name.lower(): # Busca el producto por nombre.\n",
    "            inventory.remove(product) #Elimina el producto del inventario.\n",
    "            print(f'Product {name} has been deleted from the inventory.')\n",
    "            product_found = True\n",
    "            break  # Sale del bucle una vez que se ha eliminado el producto.\n",
    "\n",
    "     # Si el producto no está en el inventario, muestra un mensaje.\n",
    "    if not product_found:\n",
    "        print(f\"Product '{name}' not found in inventory.\")\n"
   ]
  },
  {
   "cell_type": "code",
   "execution_count": 144,
   "metadata": {},
   "outputs": [],
   "source": [
    "# Esta función nos permite calcular el valor total del inventario:\n",
    "def calculate_value_inventory():\n",
    "    total_value = 0.0\n",
    "    for product in inventory:\n",
    "        total_value = total_value + product['price'] * product['quantity'] # Calculamos el total: suma el valor de cada producto (precio x cantidad)\n",
    "    return total_value"
   ]
  },
  {
   "cell_type": "markdown",
   "metadata": {},
   "source": [
    "2. Customers' functions:"
   ]
  },
  {
   "cell_type": "code",
   "execution_count": 145,
   "metadata": {},
   "outputs": [],
   "source": [
    "# Esta función sirve para realizar una compra:\n",
    "def make_purchase():\n",
    "    view_inventory () # Muestra inventario\n",
    "\n",
    "# Creamos una lista de la compra vacía para el cliente.\n",
    "    customer_purchases = []\n",
    "\n",
    " # Usamos un bucle while, para seguir comprando mientras el cliente quiera.   \n",
    "    continue_buying = True\n",
    "    while continue_buying:\n",
    "        name = input('Enter the product name: ') # Pregunta al cliente que producto quiere (por nombre).\n",
    "        quantity =  int(input('Enter the quantity of the product: '))  # Pregunta la cantidad.\n",
    "    \n",
    "        # Buscamos el producto.\n",
    "        product = search_product(name)\n",
    "        \n",
    "        # Comprobamos si el producto esta en el inventario.\n",
    "        if product == None:\n",
    "            continue\n",
    "\n",
    "        # Añadimos el producto, la cantidad y el precio a la lista de la compra.\n",
    "        customer_purchases.append({'name': name , 'quantity': quantity, 'price': product['price']})\n",
    "\n",
    "        # Actualizar el inventario\n",
    "        update_stock(name, - quantity)\n",
    "\n",
    "        continue_buy = input('Do you want to continue shopping? ')\n",
    "        if continue_buy != 'Yes':\n",
    "            continue_buying = False\n",
    "\n",
    "    # Calcula el coste total de la compra mirando el carrito.\n",
    "    total_value_c = 0.0\n",
    "    for product in customer_purchases:\n",
    "        total_value_c = total_value_c + product['price'] * product['quantity']\n"
   ]
  },
  {
   "cell_type": "code",
   "execution_count": 146,
   "metadata": {},
   "outputs": [],
   "source": [
    "# Con esta función realizamos el proceso de pago:\n",
    "def process_payment():\n",
    "    try:\n",
    "        # Solicitar al usuario ingresar la cantidad total de la compra\n",
    "        total_quantity = float(input('Enter the total of the purchase: '))\n",
    "\n",
    "        # Solicitar al usuario ingresar la cantidad de pago\n",
    "        pay = float(input('Enter the amount of money you are going to pay with: '))\n",
    "\n",
    "        # Comprobamos si el pago es suficiente.\n",
    "        if pay < total_quantity:\n",
    "            print('The payment is insufficient. Please enter an amount greater than or equal to the total.')\n",
    "        \n",
    "        # Si es suficiente. Calculamos el cambio:\n",
    "        else:\n",
    "            change = pay - total_quantity\n",
    "            print(f'Payment received: {pay:.2f}. The change is: {change:.2f}')\n",
    "            print('Payment successfully processed. Thank you for your purchase!')\n",
    "\n",
    "    # Creamos una excepción en caso de que el usuario introduzca un número, o una cantidad errónea. \n",
    "    except ValueError: \n",
    "        print('\"Error: Invalid entry. Please enter a valid numeric values.\")')\n"
   ]
  },
  {
   "cell_type": "code",
   "execution_count": 147,
   "metadata": {},
   "outputs": [],
   "source": [
    "# Esta función nos sirve para agregar un cliente a nuestro diccionario de clientes:\n",
    "def add_customer(name_customer, email = 'Not defined'):\n",
    "    new_customer = {'email': email, 'purchase_history': None}\n",
    "    customers[name_customer] = new_customer\n"
   ]
  },
  {
   "cell_type": "code",
   "execution_count": 148,
   "metadata": {},
   "outputs": [],
   "source": [
    "# Con la siguiente función podemos ver la lista de clientes registrados:\n",
    "def view_customers():\n",
    "    # Comprobamos si la lista clientes tiene algún cliente añadido.\n",
    "    if len(customers) == 0: \n",
    "        print('The list of customers is empty.') #La lista está vacia.\n",
    "    else:\n",
    "        print('List of registered customers: ') # Si no, recorremos la base de datos de clientes.\n",
    "        for name in customers:\n",
    "            customer = customers[name]\n",
    "            email = customer['email']\n",
    "            print(print(f\"Name: {name}, Email: {email}\")) # Y lo mostramos según nombre y email."
   ]
  },
  {
   "cell_type": "markdown",
   "metadata": {},
   "source": [
    "3. Additional functions:"
   ]
  },
  {
   "cell_type": "code",
   "execution_count": 149,
   "metadata": {},
   "outputs": [],
   "source": [
    "# Con la siguiente función, podemos registrar una compra:\n",
    "def register_purchase(name_customer, customer_purchases):\n",
    "     # Verificamos si el cliente está en el diccionario.\n",
    "    if name_customer not in customers:\n",
    "        print(f'The action cannot be performed.The customer {name_customer} is not in the database.')\n",
    "        return\n",
    "    \n",
    "    # Calcular el coste total de la compra.\n",
    "    total_purchase = make_purchase(customer_purchases)\n",
    "\n",
    "    # Registramos la compra.\n",
    "    purchase = {\n",
    "        'products': customer_purchases,\n",
    "        'total_purchase': total_purchase\n",
    "    }\n",
    "    # Actualizamos el historial de clientes.\n",
    "    customers[name_customer]['purchase_history'].append(purchase)\n",
    "    customers[name_customer]['total_sales'] += total_purchase\n",
    "    print(f\"Purchase registered successfully for {name_customer}. Total: {total_purchase}.\")"
   ]
  },
  {
   "cell_type": "code",
   "execution_count": 150,
   "metadata": {},
   "outputs": [],
   "source": [
    "# Esta función permite ver el historial de compras de un cliente:\n",
    "def view_customer_purchases(name_customer):\n",
    "     # Verificamos si el cliente está en el diccionario.\n",
    "    if name_customer not in customers:\n",
    "        print(f'The action cannot be performed.The customer {name_customer} is not in the database.')\n",
    "        return\n",
    "    \n",
    "     # Obtener el historial de compras del cliente.\n",
    "    purchase_history = customers[name_customer]['purchase_history']\n",
    "\n",
    "    # Verificar si el cliente tiene compras realizadas.\n",
    "    if not purchase_history:\n",
    "        print(f'The customer {name_customer} has no registered purchases.')\n",
    "        return\n",
    "\n",
    "    # Mostrar detalles: Si tiene compras, recorre cada compra y muestra los productos con su precio, cantidad y el total de la compra.\n",
    "    print(f\"The purchase history of {name_customer}:\")\n",
    "    for i, buy in enumerate(purchase_history, 1): # Obtenemos la compra y su número de compra, iniciando en el indice 1.\n",
    "        print(f\"\\buys {i}:\")\n",
    "        for product in buy['products']:\n",
    "            print(f\"- Product: {product['name']}, Price: {product['price']}, Quantity: {product['quantity']}\")\n",
    "        print(f\"The total puchase is : {buy['total_purchase']}\")\n",
    "    return purchase_history"
   ]
  },
  {
   "cell_type": "code",
   "execution_count": 151,
   "metadata": {},
   "outputs": [],
   "source": [
    "# Esta función calcula el total de las ventas:\n",
    "def calculate_total_sales():\n",
    "    purchase_history = view_customer_purchases() # Obtenemos el historial de compras.\n",
    "\n",
    "    # Calculamos el total de ventas.\n",
    "    total_sales = sum(buy['total'] for buy in purchase_history)\n",
    "    return total_sales"
   ]
  },
  {
   "cell_type": "code",
   "execution_count": 152,
   "metadata": {},
   "outputs": [
    {
     "name": "stdout",
     "output_type": "stream",
     "text": [
      "El inventario is empty.\n",
      "The list of customers is empty.\n",
      "Producto: rosal, Price: 8.5, Quantity: 5\n",
      "Producto: margarita, Price: 6.5, Quantity: 10\n",
      "Producto: lavanda, Price: 3.25, Quantity: 15\n",
      "Producto: menta, Price: 2.0, Quantity: 20\n",
      "List of registered customers: \n",
      "Name: Lucia, Email: lucia@gmail.com\n",
      "None\n",
      "Name: Chris, Email: Not defined\n",
      "None\n",
      "Name: Daniel, Email: daniel@gmail.com\n",
      "None\n"
     ]
    }
   ],
   "source": [
    "view_inventory()\n",
    "view_customers()\n",
    "\n",
    "add_product('rosal', 8.50, 5)\n",
    "add_product('margarita', 6.50, 10)\n",
    "add_product('lavanda', 3.25, 15)\n",
    "add_product('menta', 2.00, 20)\n",
    "\n",
    "add_customer('Lucia', 'lucia@gmail.com')\n",
    "add_customer('Chris' )\n",
    "add_customer('Daniel', 'daniel@gmail.com')\n",
    "\n",
    "view_inventory()\n",
    "view_customers()"
   ]
  },
  {
   "cell_type": "code",
   "execution_count": 153,
   "metadata": {},
   "outputs": [
    {
     "name": "stdout",
     "output_type": "stream",
     "text": [
      "Producto: rosal, Price: 8.5, Quantity: 5\n",
      "Producto: margarita, Price: 6.5, Quantity: 10\n",
      "Producto: lavanda, Price: 3.25, Quantity: 15\n",
      "Producto: menta, Price: 2.0, Quantity: 20\n",
      "El producto lavanda is not in the inventory.\n"
     ]
    }
   ],
   "source": [
    "view_inventory()\n",
    "name_product = input(\"Enter the name of the product: \") # Solicitar al usuario el nombre del producto.\n",
    "search_product(name_product)\n"
   ]
  },
  {
   "cell_type": "code",
   "execution_count": 154,
   "metadata": {},
   "outputs": [
    {
     "name": "stdout",
     "output_type": "stream",
     "text": [
      "Producto: rosal, Price: 8.5, Quantity: 5\n",
      "Producto: margarita, Price: 6.5, Quantity: 10\n",
      "Producto: lavanda, Price: 3.25, Quantity: 15\n",
      "Producto: menta, Price: 2.0, Quantity: 20\n",
      "Updated lavanda: New quantity is 65\n"
     ]
    }
   ],
   "source": [
    "view_inventory()\n",
    "update_stock('lavanda', 50)"
   ]
  },
  {
   "cell_type": "code",
   "execution_count": null,
   "metadata": {},
   "outputs": [],
   "source": [
    "add_product('menta', 2.00, 20)"
   ]
  },
  {
   "cell_type": "code",
   "execution_count": 164,
   "metadata": {},
   "outputs": [
    {
     "name": "stdout",
     "output_type": "stream",
     "text": [
      "Producto: rosal, Price: 8.5, Quantity: 5\n",
      "Producto: margarita, Price: 6.5, Quantity: 10\n",
      "Producto: lavanda, Price: 3.25, Quantity: 65\n",
      "Producto: menta, Price: 2.0, Quantity: 20\n"
     ]
    }
   ],
   "source": [
    "view_inventory()"
   ]
  },
  {
   "cell_type": "code",
   "execution_count": 165,
   "metadata": {},
   "outputs": [
    {
     "name": "stdout",
     "output_type": "stream",
     "text": [
      "Producto: rosal, Price: 8.5, Quantity: 5\n",
      "Producto: margarita, Price: 6.5, Quantity: 10\n",
      "Producto: lavanda, Price: 3.25, Quantity: 65\n",
      "Producto: menta, Price: 2.0, Quantity: 20\n",
      "El producto lavanda is not in the inventory.\n"
     ]
    }
   ],
   "source": [
    "view_inventory()\n",
    "name_product = input(\"Enter the name of the product: \") # Solicitar al usuario el nombre del producto.\n",
    "search_product(name_product)"
   ]
  },
  {
   "cell_type": "code",
   "execution_count": 166,
   "metadata": {},
   "outputs": [
    {
     "data": {
      "text/plain": [
       "358.75"
      ]
     },
     "execution_count": 166,
     "metadata": {},
     "output_type": "execute_result"
    }
   ],
   "source": [
    "calculate_value_inventory()"
   ]
  },
  {
   "cell_type": "code",
   "execution_count": null,
   "metadata": {},
   "outputs": [],
   "source": []
  },
  {
   "cell_type": "code",
   "execution_count": 155,
   "metadata": {},
   "outputs": [
    {
     "ename": "IndentationError",
     "evalue": "unexpected indent (350098252.py, line 3)",
     "output_type": "error",
     "traceback": [
      "\u001b[0;36m  Cell \u001b[0;32mIn[155], line 3\u001b[0;36m\u001b[0m\n\u001b[0;31m    try:\u001b[0m\n\u001b[0m    ^\u001b[0m\n\u001b[0;31mIndentationError\u001b[0m\u001b[0;31m:\u001b[0m unexpected indent\n"
     ]
    }
   ],
   "source": [
    "\n",
    "name_product = input(\"Enter the name of the product: \") # Solicitar al usuario el nombre del producto.\n",
    "\n",
    "    try:\n",
    "        quantity = int(input(f\"Enter the quantity to add (use negative to subtract): \")) # Solicitar al usuario la cantidad a agregar o restar.\n",
    "    except ValueError:\n",
    "        print(\"Error: You must enter a valid number for quantity.\")\n",
    "        return\n"
   ]
  }
 ],
 "metadata": {
  "kernelspec": {
   "display_name": "Python 3",
   "language": "python",
   "name": "python3"
  },
  "language_info": {
   "codemirror_mode": {
    "name": "ipython",
    "version": 3
   },
   "file_extension": ".py",
   "mimetype": "text/x-python",
   "name": "python",
   "nbconvert_exporter": "python",
   "pygments_lexer": "ipython3",
   "version": "3.9.6"
  }
 },
 "nbformat": 4,
 "nbformat_minor": 2
}

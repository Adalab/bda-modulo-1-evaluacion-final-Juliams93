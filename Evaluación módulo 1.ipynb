{
 "cells": [
  {
   "cell_type": "markdown",
   "metadata": {},
   "source": [
    "# Evaluación Final Módulo 1: #\n",
    "---\n",
    "> Por Julia Marín Salas \n"
   ]
  },
  {
   "cell_type": "markdown",
   "metadata": {},
   "source": [
    "1. Creamos tres estructuras de datos:"
   ]
  },
  {
   "cell_type": "code",
   "execution_count": null,
   "metadata": {},
   "outputs": [],
   "source": [
    "inventory = []\n",
    "customers = {}\n",
    "total_sales = 0.0"
   ]
  },
  {
   "cell_type": "markdown",
   "metadata": {},
   "source": [
    "2. Inventory's functions:"
   ]
  },
  {
   "cell_type": "code",
   "execution_count": null,
   "metadata": {},
   "outputs": [],
   "source": [
    "# Con esta función podemos añadir un nuevo producto a nuestro inventario, comprobando previamente si existe.\n",
    "def add_product(name, price, quantity):\n",
    "    for product in inventory:  # Revisamos todos los productos del inventario.\n",
    "        if product['name'] == name: \n",
    "            print('The product already exists and is going to be updated.') \n",
    "            name['quantity'] += quantity # En caso de que el producto ya se encuentre en nuestro inventario, se actualizaría.\n",
    "            return\n",
    "# En caso de que no este en nuestro inventario lo agregariamos mediante un diccionario. Y la función append.        \n",
    "    new_product = {  \n",
    "        'name': name,\n",
    "        'price': price,\n",
    "        'quantity': quantity\n",
    "    }\n",
    "    inventory.append(new_product)"
   ]
  },
  {
   "cell_type": "code",
   "execution_count": null,
   "metadata": {},
   "outputs": [],
   "source": [
    "# Con esta función podemos ver el inventario:\n",
    "def view_inventory():\n",
    "    if len(inventory) == 0: # Aquí verificamos si el inventario está vacío.\n",
    "        print(\"El inventario is empty.\")\n",
    "    else:\n",
    "        for product in inventory: # Si no lo está pedimos que muestre los detalles de cada producto.\n",
    "            print(f\"Producto: {product['name']}, Price: {product['price']}, Quantity: {product['quantity']}\")"
   ]
  },
  {
   "cell_type": "code",
   "execution_count": null,
   "metadata": {},
   "outputs": [],
   "source": [
    "# Con la siguiente función buscamos cualquier producto en el inventario:\n",
    "def search_product(name):\n",
    "    for product in inventory:\n",
    "        if product['name'].lower() == name.lower():\n",
    "           print(f\"Product {name} is in inventory.\")\n",
    "           print(f\"Producto: {product['name']}, Price: {product['price']}, Quantity: {product['quantity']}\") \n",
    "           return product\n",
    "        else:\n",
    "            print(f'El producto {name} is not in the inventory.')\n",
    "            return None"
   ]
  },
  {
   "cell_type": "code",
   "execution_count": null,
   "metadata": {},
   "outputs": [],
   "source": [
    "# Con esta función actualizamos el stock del inventario:\n",
    "def update_stock(name, quantity):\n",
    "    product_found = False\n",
    "\n",
    "    for product in inventory:\n",
    "        if product['name'].lower() == name.lower(): # Busca el producto por nombre.\n",
    "            product['quantity'] += quantity  # Actualiza la cantidad.\n",
    "            print(f\"Updated {product['name']}: New quantity is {product['quantity']}\")\n",
    "            product_found = True  \n",
    "            break  # Sale del bucle una vez encontrado el producto. \n",
    "\n",
    "    # Si el producto no está en el inventario, muestra un mensaje.\n",
    "    if not product_found:\n",
    "        print(f\"Product '{name}' not found in inventory.\")\n"
   ]
  },
  {
   "cell_type": "code",
   "execution_count": null,
   "metadata": {},
   "outputs": [],
   "source": [
    "# Con esta función eliminamos un producto del inventario:\n",
    "def delete_product(name):\n",
    "    product_found = False\n",
    "    \n",
    "    for product in inventory:\n",
    "        if product['name'].lower() == name.lower(): # Busca el producto por nombre.\n",
    "            inventory.remove(product) #Elimina el producto del inventario.\n",
    "            print(f'Product{name} has been deleted from the inventory.')\n",
    "            product_found = True\n",
    "            break  # Sale del bucle una vez que se ha eliminado el producto.\n",
    "\n",
    "     # Si el producto no está en el inventario, muestra un mensaje.\n",
    "    if not product_found:\n",
    "        print(f\"Product '{name}' not found in inventory.\")\n"
   ]
  },
  {
   "cell_type": "code",
   "execution_count": null,
   "metadata": {},
   "outputs": [],
   "source": [
    "def calculate_value_inventory():\n",
    "    total_value = 0.0\n",
    "    for product in inventory:\n",
    "        total_value = total_value + product['price'] * product['quantity']\n",
    "    return total_value"
   ]
  },
  {
   "cell_type": "markdown",
   "metadata": {},
   "source": [
    "2. Customers' functions:"
   ]
  },
  {
   "cell_type": "code",
   "execution_count": null,
   "metadata": {},
   "outputs": [],
   "source": [
    "def make_purchase():\n",
    "    view_inventory () # Muestra inventario\n",
    "\n",
    "# Creamos una lista de la compra vacía para el cliente.\n",
    "    customer_purchases = []\n",
    "\n",
    " # Usamos un bucle while, para seguir comprando mientras el cliente quiera.   \n",
    "    continue_buying = True\n",
    "    while continue_buying:\n",
    "        name = input('Enter the product name: ') # Pregunta al cliente que producto quiere (por nombre).\n",
    "        quantity =  int(input('Enter the quantity of the product: '))  # Pregunta la cantidad.\n",
    "    \n",
    "        # Buscamos el producto.\n",
    "        product = search_product(name)\n",
    "        \n",
    "        # Comprobamos si el producto esta en el inventario.\n",
    "        if product == None:\n",
    "            continue\n",
    "\n",
    "        # Añadimos el producto, la cantidad y el precio a la lista de la compra.\n",
    "        customer_purchases.append({'name': name , 'quantity': quantity, 'price': product['price']})\n",
    "\n",
    "        # Actualizar el inventario\n",
    "        update_stock(name, - quantity)\n",
    "\n",
    "        continue_buy = input('Do you want to continue shopping? ')\n",
    "        if continue_buy != 'Yes':\n",
    "            continue_buying = False\n",
    "\n",
    "    # Calcula el coste total de la compra mirando el carrito.\n",
    "    total_value_c = 0.0\n",
    "    for product in customer_purchases:\n",
    "        total_value_c = total_value_c + product['price'] * product['quantity']\n"
   ]
  },
  {
   "cell_type": "code",
   "execution_count": null,
   "metadata": {},
   "outputs": [],
   "source": []
  },
  {
   "cell_type": "code",
   "execution_count": null,
   "metadata": {},
   "outputs": [],
   "source": [
    "name = input(\"Enter the name of the product: \") # Solicitar al usuario el nombre del producto.\n",
    "    \n",
    "    try:\n",
    "        quantity = int(input(f\"Enter the quantity to add (use negative to subtract): \")) # Solicitar al usuario la cantidad a agregar o restar.\n",
    "    except ValueError:\n",
    "        print(\"Error: You must enter a valid number for quantity.\")\n",
    "        return\n"
   ]
  }
 ],
 "metadata": {
  "kernelspec": {
   "display_name": "Python 3",
   "language": "python",
   "name": "python3"
  },
  "language_info": {
   "codemirror_mode": {
    "name": "ipython",
    "version": 3
   },
   "file_extension": ".py",
   "mimetype": "text/x-python",
   "name": "python",
   "nbconvert_exporter": "python",
   "pygments_lexer": "ipython3",
   "version": "3.9.6"
  }
 },
 "nbformat": 4,
 "nbformat_minor": 2
}
